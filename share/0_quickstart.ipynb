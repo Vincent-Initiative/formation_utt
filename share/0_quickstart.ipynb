{
 "cells": [
  {
   "cell_type": "markdown",
   "metadata": {
    "id": "5bUqm00LtLqD"
   },
   "source": [
    "# Quickstart: DataFrame\n",
    "\n",
    "This is a short introduction and quickstart for the PySpark DataFrame API. PySpark DataFrames are lazily evaluated. They are implemented on top of [RDD](https://spark.apache.org/docs/latest/rdd-programming-guide.html#overview)s. When Spark [transforms](https://spark.apache.org/docs/latest/rdd-programming-guide.html#transformations) data, it does not immediately compute the transformation but plans how to compute later. When [actions](https://spark.apache.org/docs/latest/rdd-programming-guide.html#actions) such as `collect()` are explicitly called, the computation starts.\n",
    "This notebook shows the basic usages of the DataFrame, geared mainly for new users. You can run the latest version of these examples by yourself in 'Live Notebook: DataFrame' at [the quickstart page](https://spark.apache.org/docs/latest/api/python/getting_started/index.html).\n",
    "\n",
    "There is also other useful information in Apache Spark documentation site, see the latest version of [Spark SQL and DataFrames](https://spark.apache.org/docs/latest/sql-programming-guide.html), [RDD Programming Guide](https://spark.apache.org/docs/latest/rdd-programming-guide.html), [Structured Streaming Programming Guide](https://spark.apache.org/docs/latest/structured-streaming-programming-guide.html), [Spark Streaming Programming Guide](https://spark.apache.org/docs/latest/streaming-programming-guide.html) and [Machine Learning Library (MLlib) Guide](https://spark.apache.org/docs/latest/ml-guide.html).\n",
    "\n",
    "PySpark applications start with initializing `SparkSession` which is the entry point of PySpark as below. In case of running it in PySpark shell via <code>pyspark</code> executable, the shell automatically creates the session in the variable <code>spark</code> for users."
   ]
  },
  {
   "cell_type": "code",
   "execution_count": null,
   "metadata": {
    "colab": {
     "base_uri": "https://localhost:8080/"
    },
    "executionInfo": {
     "elapsed": 30643,
     "status": "ok",
     "timestamp": 1699201717570,
     "user": {
      "displayName": "Vincent G.",
      "userId": "15679613728828836905"
     },
     "user_tz": -60
    },
    "id": "w6jE-fekuVFe",
    "outputId": "36768999-7ad0-4f34-e6b2-329eaf6df93b"
   },
   "outputs": [],
   "source": [
    "!pip install pyspark"
   ]
  },
  {
   "cell_type": "code",
   "execution_count": null,
   "metadata": {
    "executionInfo": {
     "elapsed": 7684,
     "status": "ok",
     "timestamp": 1699201725247,
     "user": {
      "displayName": "Vincent G.",
      "userId": "15679613728828836905"
     },
     "user_tz": -60
    },
    "id": "phSBgl9itLqE"
   },
   "outputs": [],
   "source": [
    "from pyspark.sql import SparkSession\n",
    "\n",
    "spark = SparkSession.builder.getOrCreate()"
   ]
  },
  {
   "cell_type": "markdown",
   "metadata": {
    "id": "D9tz00j1tLqF"
   },
   "source": [
    "## DataFrame Creation\n",
    "\n",
    "A PySpark DataFrame can be created via `pyspark.sql.SparkSession.createDataFrame` typically by passing a list of lists, tuples, dictionaries and `pyspark.sql.Row`s, a [pandas DataFrame](https://pandas.pydata.org/docs/reference/api/pandas.DataFrame.html) and an RDD consisting of such a list.\n",
    "`pyspark.sql.SparkSession.createDataFrame` takes the `schema` argument to specify the schema of the DataFrame. When it is omitted, PySpark infers the corresponding schema by taking a sample from the data.\n",
    "\n",
    "Firstly, you can create a PySpark DataFrame from a list of rows"
   ]
  },
  {
   "cell_type": "code",
   "execution_count": null,
   "metadata": {
    "colab": {
     "base_uri": "https://localhost:8080/",
     "height": 114
    },
    "executionInfo": {
     "elapsed": 999,
     "status": "ok",
     "timestamp": 1699205276186,
     "user": {
      "displayName": "Vincent G.",
      "userId": "15679613728828836905"
     },
     "user_tz": -60
    },
    "id": "cRfjv2VStLqF",
    "outputId": "198ad0ff-a569-4a1a-e481-57652b73c9e2"
   },
   "outputs": [],
   "source": [
    "from datetime import datetime, date\n",
    "import pandas as pd\n",
    "from pyspark.sql import Row\n",
    "\n",
    "df = spark.createDataFrame([\n",
    "    Row(a=1, b=2., c='string1', d=date(2000, 1, 1), e=datetime(2000, 1, 1, 12, 0)),\n",
    "    Row(a=2, b=3., c='string2', d=date(2000, 2, 1), e=datetime(2000, 1, 2, 12, 0)),\n",
    "    Row(a=4, b=5., c='string3', d=date(2000, 3, 1), e=datetime(2000, 1, 3, 12, 0))\n",
    "])\n",
    "df"
   ]
  },
  {
   "cell_type": "markdown",
   "metadata": {
    "id": "Wx8lbxHxtLqG"
   },
   "source": [
    "Create a PySpark DataFrame with an explicit schema."
   ]
  },
  {
   "cell_type": "code",
   "execution_count": null,
   "metadata": {
    "colab": {
     "base_uri": "https://localhost:8080/"
    },
    "executionInfo": {
     "elapsed": 4,
     "status": "ok",
     "timestamp": 1699201728086,
     "user": {
      "displayName": "Vincent G.",
      "userId": "15679613728828836905"
     },
     "user_tz": -60
    },
    "id": "GipIQUOntLqG",
    "outputId": "1b27605d-fa8c-4496-fe44-9bf2dfc3acc7"
   },
   "outputs": [],
   "source": [
    "df = spark.createDataFrame([\n",
    "    (1, 2., 'string1', date(2000, 1, 1), datetime(2000, 1, 1, 12, 0)),\n",
    "    (2, 3., 'string2', date(2000, 2, 1), datetime(2000, 1, 2, 12, 0)),\n",
    "    (3, 4., 'string3', date(2000, 3, 1), datetime(2000, 1, 3, 12, 0))\n",
    "], schema='a long, b double, c string, d date, e timestamp')\n",
    "df"
   ]
  },
  {
   "cell_type": "markdown",
   "metadata": {
    "id": "CsWwXZ5KtLqH"
   },
   "source": [
    "Create a PySpark DataFrame from a pandas DataFrame"
   ]
  },
  {
   "cell_type": "code",
   "execution_count": null,
   "metadata": {
    "colab": {
     "base_uri": "https://localhost:8080/"
    },
    "executionInfo": {
     "elapsed": 292,
     "status": "ok",
     "timestamp": 1699201728376,
     "user": {
      "displayName": "Vincent G.",
      "userId": "15679613728828836905"
     },
     "user_tz": -60
    },
    "id": "9F2hygGXtLqH",
    "outputId": "08800b9d-0deb-4321-f4f0-e4d2a2628704"
   },
   "outputs": [],
   "source": [
    "pandas_df = pd.DataFrame({\n",
    "    'a': [1, 2, 3],\n",
    "    'b': [2., 3., 4.],\n",
    "    'c': ['string1', 'string2', 'string3'],\n",
    "    'd': [date(2000, 1, 1), date(2000, 2, 1), date(2000, 3, 1)],\n",
    "    'e': [datetime(2000, 1, 1, 12, 0), datetime(2000, 1, 2, 12, 0), datetime(2000, 1, 3, 12, 0)]\n",
    "})\n",
    "df = spark.createDataFrame(pandas_df)\n",
    "df"
   ]
  },
  {
   "cell_type": "markdown",
   "metadata": {
    "id": "f73ZTgHbtLqI"
   },
   "source": [
    "The DataFrames created above all have the same results and schema."
   ]
  },
  {
   "cell_type": "code",
   "execution_count": null,
   "metadata": {
    "colab": {
     "base_uri": "https://localhost:8080/"
    },
    "executionInfo": {
     "elapsed": 7047,
     "status": "ok",
     "timestamp": 1699201735420,
     "user": {
      "displayName": "Vincent G.",
      "userId": "15679613728828836905"
     },
     "user_tz": -60
    },
    "id": "8smokPZ2tLqI",
    "outputId": "38fd36af-aa3f-4d25-8810-d84ea4f38b46"
   },
   "outputs": [],
   "source": [
    "# All DataFrames above result same.\n",
    "df.show()\n",
    "df.printSchema()"
   ]
  },
  {
   "cell_type": "markdown",
   "metadata": {
    "id": "QwtYbkkztLqJ"
   },
   "source": [
    "## Viewing Data\n",
    "\n",
    "The top rows of a DataFrame can be displayed using `DataFrame.show()`."
   ]
  },
  {
   "cell_type": "code",
   "execution_count": null,
   "metadata": {
    "colab": {
     "base_uri": "https://localhost:8080/"
    },
    "executionInfo": {
     "elapsed": 395,
     "status": "ok",
     "timestamp": 1699201735812,
     "user": {
      "displayName": "Vincent G.",
      "userId": "15679613728828836905"
     },
     "user_tz": -60
    },
    "id": "aQ75Hre1tLqJ",
    "outputId": "4dfc6206-3da2-430a-e764-4c875ae34aa4"
   },
   "outputs": [],
   "source": [
    "df.show(1)"
   ]
  },
  {
   "cell_type": "markdown",
   "metadata": {
    "id": "NXOpMqrYtLqK"
   },
   "source": [
    "Alternatively, you can enable `spark.sql.repl.eagerEval.enabled` configuration for the eager evaluation of PySpark DataFrame in notebooks such as Jupyter. The number of rows to show can be controlled via `spark.sql.repl.eagerEval.maxNumRows` configuration."
   ]
  },
  {
   "cell_type": "code",
   "execution_count": null,
   "metadata": {
    "colab": {
     "base_uri": "https://localhost:8080/",
     "height": 114
    },
    "executionInfo": {
     "elapsed": 399,
     "status": "ok",
     "timestamp": 1699201736210,
     "user": {
      "displayName": "Vincent G.",
      "userId": "15679613728828836905"
     },
     "user_tz": -60
    },
    "id": "eBHw8aLRtLqK",
    "outputId": "2ebd958a-d1ef-4c86-f40f-2901a28d101f"
   },
   "outputs": [],
   "source": [
    "spark.conf.set('spark.sql.repl.eagerEval.enabled', True)\n",
    "df"
   ]
  },
  {
   "cell_type": "markdown",
   "metadata": {
    "id": "0C1GWb3WtLqK"
   },
   "source": [
    "The rows can also be shown vertically. This is useful when rows are too long to show horizontally."
   ]
  },
  {
   "cell_type": "code",
   "execution_count": null,
   "metadata": {
    "colab": {
     "base_uri": "https://localhost:8080/"
    },
    "executionInfo": {
     "elapsed": 558,
     "status": "ok",
     "timestamp": 1699201736764,
     "user": {
      "displayName": "Vincent G.",
      "userId": "15679613728828836905"
     },
     "user_tz": -60
    },
    "id": "O3YTkSDDtLqL",
    "outputId": "c3f381dd-a7d3-406e-d5c7-1588bfb0eaad"
   },
   "outputs": [],
   "source": [
    "df.show(1, vertical=True)"
   ]
  },
  {
   "cell_type": "markdown",
   "metadata": {
    "id": "nORyeo8ntLqL"
   },
   "source": [
    "You can see the DataFrame's schema and column names as follows:"
   ]
  },
  {
   "cell_type": "code",
   "execution_count": null,
   "metadata": {
    "colab": {
     "base_uri": "https://localhost:8080/"
    },
    "executionInfo": {
     "elapsed": 6,
     "status": "ok",
     "timestamp": 1699201736765,
     "user": {
      "displayName": "Vincent G.",
      "userId": "15679613728828836905"
     },
     "user_tz": -60
    },
    "id": "m49Q9fXWtLqL",
    "outputId": "0563be83-6c3c-499e-d9dd-3cf20c0ade06"
   },
   "outputs": [],
   "source": [
    "df.columns"
   ]
  },
  {
   "cell_type": "code",
   "execution_count": null,
   "metadata": {
    "colab": {
     "base_uri": "https://localhost:8080/"
    },
    "executionInfo": {
     "elapsed": 4,
     "status": "ok",
     "timestamp": 1699201736765,
     "user": {
      "displayName": "Vincent G.",
      "userId": "15679613728828836905"
     },
     "user_tz": -60
    },
    "id": "ZD7nlbOPtLqL",
    "outputId": "f0d1057e-b312-41e7-d4af-2970770e644b"
   },
   "outputs": [],
   "source": [
    "df.printSchema()"
   ]
  },
  {
   "cell_type": "markdown",
   "metadata": {
    "id": "nTSWyGWttLqL"
   },
   "source": [
    "Show the summary of the DataFrame"
   ]
  },
  {
   "cell_type": "code",
   "execution_count": null,
   "metadata": {
    "colab": {
     "base_uri": "https://localhost:8080/"
    },
    "executionInfo": {
     "elapsed": 2038,
     "status": "ok",
     "timestamp": 1699201738800,
     "user": {
      "displayName": "Vincent G.",
      "userId": "15679613728828836905"
     },
     "user_tz": -60
    },
    "id": "uOybScOftLqM",
    "outputId": "cd6bf843-11e5-452a-86d1-6383d12e8f00"
   },
   "outputs": [],
   "source": [
    "df.select(\"a\", \"b\", \"c\").describe().show()"
   ]
  },
  {
   "cell_type": "markdown",
   "metadata": {
    "id": "WpF3tuFOtLqM"
   },
   "source": [
    "`DataFrame.collect()` collects the distributed data to the driver side as the local data in Python. Note that this can throw an out-of-memory error when the dataset is too large to fit in the driver side because it collects all the data from executors to the driver side."
   ]
  },
  {
   "cell_type": "code",
   "execution_count": null,
   "metadata": {
    "colab": {
     "base_uri": "https://localhost:8080/"
    },
    "executionInfo": {
     "elapsed": 556,
     "status": "ok",
     "timestamp": 1699201739353,
     "user": {
      "displayName": "Vincent G.",
      "userId": "15679613728828836905"
     },
     "user_tz": -60
    },
    "id": "oxUeZ-RitLqM",
    "outputId": "659715ee-e385-449b-8a01-b57bb1355edd"
   },
   "outputs": [],
   "source": [
    "df.collect()"
   ]
  },
  {
   "cell_type": "markdown",
   "metadata": {
    "id": "k2SC1SlLtLqN"
   },
   "source": [
    "In order to avoid throwing an out-of-memory exception, use `DataFrame.take()` or `DataFrame.tail()`."
   ]
  },
  {
   "cell_type": "code",
   "execution_count": null,
   "metadata": {
    "colab": {
     "base_uri": "https://localhost:8080/"
    },
    "executionInfo": {
     "elapsed": 4,
     "status": "ok",
     "timestamp": 1699201739353,
     "user": {
      "displayName": "Vincent G.",
      "userId": "15679613728828836905"
     },
     "user_tz": -60
    },
    "id": "WxOd5hwmtLqN",
    "outputId": "37f4fd8d-a801-4697-8e0c-7bbc203cf74f"
   },
   "outputs": [],
   "source": [
    "df.take(1)"
   ]
  },
  {
   "cell_type": "markdown",
   "metadata": {
    "id": "w3hOq8C2tLqN"
   },
   "source": [
    "PySpark DataFrame also provides the conversion back to a [pandas DataFrame](https://pandas.pydata.org/docs/reference/api/pandas.DataFrame.html) to leverage pandas API. Note that `toPandas` also collects all data into the driver side that can easily cause an out-of-memory-error when the data is too large to fit into the driver side."
   ]
  },
  {
   "cell_type": "code",
   "execution_count": null,
   "metadata": {
    "colab": {
     "base_uri": "https://localhost:8080/",
     "height": 143
    },
    "executionInfo": {
     "elapsed": 310,
     "status": "ok",
     "timestamp": 1699201739661,
     "user": {
      "displayName": "Vincent G.",
      "userId": "15679613728828836905"
     },
     "user_tz": -60
    },
    "id": "VV3JyGuPtLqN",
    "outputId": "cc730778-2271-46dd-f856-5f674d1f0903"
   },
   "outputs": [],
   "source": [
    "df.toPandas()"
   ]
  },
  {
   "cell_type": "markdown",
   "metadata": {
    "id": "nAD96oNFtLqO"
   },
   "source": [
    "## Selecting and Accessing Data\n",
    "\n",
    "PySpark DataFrame is lazily evaluated and simply selecting a column does not trigger the computation but it returns a `Column` instance."
   ]
  },
  {
   "cell_type": "code",
   "execution_count": null,
   "metadata": {
    "colab": {
     "base_uri": "https://localhost:8080/"
    },
    "executionInfo": {
     "elapsed": 7,
     "status": "ok",
     "timestamp": 1699201739661,
     "user": {
      "displayName": "Vincent G.",
      "userId": "15679613728828836905"
     },
     "user_tz": -60
    },
    "id": "gHh7nqK4tLqO",
    "outputId": "0daeffdb-bd76-44d7-9b68-8242530e5231"
   },
   "outputs": [],
   "source": [
    "df.a"
   ]
  },
  {
   "cell_type": "markdown",
   "metadata": {
    "id": "psWgVxEAtLqO"
   },
   "source": [
    "In fact, most of column-wise operations return `Column`s."
   ]
  },
  {
   "cell_type": "code",
   "execution_count": null,
   "metadata": {
    "colab": {
     "base_uri": "https://localhost:8080/"
    },
    "executionInfo": {
     "elapsed": 5,
     "status": "ok",
     "timestamp": 1699201739661,
     "user": {
      "displayName": "Vincent G.",
      "userId": "15679613728828836905"
     },
     "user_tz": -60
    },
    "id": "kjayGGfwtLqO",
    "outputId": "627182eb-d0b7-4a2a-b936-b14673c3eb16"
   },
   "outputs": [],
   "source": [
    "from pyspark.sql import Column\n",
    "from pyspark.sql.functions import upper\n",
    "\n",
    "type(df.c) == type(upper(df.c)) == type(df.c.isNull())"
   ]
  },
  {
   "cell_type": "markdown",
   "metadata": {
    "id": "5d4Dgu1CtLqO"
   },
   "source": [
    "These `Column`s can be used to select the columns from a DataFrame. For example, `DataFrame.select()` takes the `Column` instances that returns another DataFrame."
   ]
  },
  {
   "cell_type": "code",
   "execution_count": null,
   "metadata": {
    "colab": {
     "base_uri": "https://localhost:8080/"
    },
    "executionInfo": {
     "elapsed": 525,
     "status": "ok",
     "timestamp": 1699201740182,
     "user": {
      "displayName": "Vincent G.",
      "userId": "15679613728828836905"
     },
     "user_tz": -60
    },
    "id": "HydbL-kTtLqP",
    "outputId": "35d0dd60-84ff-4d1e-d167-1df71b825e31"
   },
   "outputs": [],
   "source": [
    "df.select(df.c).show()"
   ]
  },
  {
   "cell_type": "markdown",
   "metadata": {
    "id": "kDkEXlPytLqP"
   },
   "source": [
    "Assign new `Column` instance."
   ]
  },
  {
   "cell_type": "code",
   "execution_count": null,
   "metadata": {
    "colab": {
     "base_uri": "https://localhost:8080/"
    },
    "executionInfo": {
     "elapsed": 787,
     "status": "ok",
     "timestamp": 1699201740967,
     "user": {
      "displayName": "Vincent G.",
      "userId": "15679613728828836905"
     },
     "user_tz": -60
    },
    "id": "bWFwGOAjtLqP",
    "outputId": "38eed410-d6a0-4d3b-c9b0-2288d0313aa3"
   },
   "outputs": [],
   "source": [
    "df.withColumn('upper_c', upper(df.c)).show()"
   ]
  },
  {
   "cell_type": "markdown",
   "metadata": {
    "id": "bJNkCz9utLqP"
   },
   "source": [
    "To select a subset of rows, use `DataFrame.filter()`."
   ]
  },
  {
   "cell_type": "code",
   "execution_count": null,
   "metadata": {
    "colab": {
     "base_uri": "https://localhost:8080/"
    },
    "executionInfo": {
     "elapsed": 539,
     "status": "ok",
     "timestamp": 1699201741504,
     "user": {
      "displayName": "Vincent G.",
      "userId": "15679613728828836905"
     },
     "user_tz": -60
    },
    "id": "BBCQTqFftLqP",
    "outputId": "9331125f-4246-476e-de1f-5454c47d881a"
   },
   "outputs": [],
   "source": [
    "df.filter(df.a == 1).show()"
   ]
  },
  {
   "cell_type": "markdown",
   "metadata": {
    "id": "EvK7G3OTtLqQ"
   },
   "source": [
    "## Applying a Function\n",
    "\n",
    "PySpark supports various UDFs and APIs to allow users to execute Python native functions. See also the latest [Pandas UDFs](https://spark.apache.org/docs/latest/sql-pyspark-pandas-with-arrow.html#pandas-udfs-aka-vectorized-udfs) and [Pandas Function APIs](https://spark.apache.org/docs/latest/sql-pyspark-pandas-with-arrow.html#pandas-function-apis). For instance, the example below allows users to directly use the APIs in [a pandas Series](https://pandas.pydata.org/pandas-docs/stable/reference/api/pandas.Series.html) within Python native function."
   ]
  },
  {
   "cell_type": "code",
   "execution_count": null,
   "metadata": {
    "colab": {
     "base_uri": "https://localhost:8080/"
    },
    "executionInfo": {
     "elapsed": 3076,
     "status": "ok",
     "timestamp": 1699201744578,
     "user": {
      "displayName": "Vincent G.",
      "userId": "15679613728828836905"
     },
     "user_tz": -60
    },
    "id": "Wvfv3A_4tLqR",
    "outputId": "a4d9bed7-5f00-4e11-ea98-6b045429e3c1"
   },
   "outputs": [],
   "source": [
    "import pandas as pd\n",
    "from pyspark.sql.functions import pandas_udf\n",
    "\n",
    "@pandas_udf('long')\n",
    "def pandas_plus_one(series: pd.Series) -> pd.Series:\n",
    "    # Simply plus one by using pandas Series.\n",
    "    return series + 1\n",
    "\n",
    "df.select(pandas_plus_one(df.a)).show()"
   ]
  },
  {
   "cell_type": "markdown",
   "metadata": {
    "id": "bfHg5U22tLqR"
   },
   "source": [
    "## Grouping Data\n",
    "\n",
    "PySpark DataFrame also provides a way of handling grouped data by using the common approach, split-apply-combine strategy.\n",
    "It groups the data by a certain condition applies a function to each group and then combines them back to the DataFrame."
   ]
  },
  {
   "cell_type": "code",
   "execution_count": null,
   "metadata": {
    "colab": {
     "base_uri": "https://localhost:8080/"
    },
    "executionInfo": {
     "elapsed": 408,
     "status": "ok",
     "timestamp": 1699201745792,
     "user": {
      "displayName": "Vincent G.",
      "userId": "15679613728828836905"
     },
     "user_tz": -60
    },
    "id": "3bRmwc4-tLqR",
    "outputId": "ba6f8c85-420c-467b-c52d-b185f853b136"
   },
   "outputs": [],
   "source": [
    "df = spark.createDataFrame([\n",
    "    ['red', 'banana', 1, 10], ['blue', 'banana', 2, 20], ['red', 'carrot', 3, 30],\n",
    "    ['blue', 'grape', 4, 40], ['red', 'carrot', 5, 50], ['black', 'carrot', 6, 60],\n",
    "    ['red', 'banana', 7, 70], ['red', 'grape', 8, 80]], schema=['color', 'fruit', 'v1', 'v2'])\n",
    "df.show()"
   ]
  },
  {
   "cell_type": "markdown",
   "metadata": {
    "id": "CsAo4BgltLqR"
   },
   "source": [
    "Grouping and then applying the `avg()` function to the resulting groups."
   ]
  },
  {
   "cell_type": "code",
   "execution_count": null,
   "metadata": {
    "colab": {
     "base_uri": "https://localhost:8080/"
    },
    "executionInfo": {
     "elapsed": 747,
     "status": "ok",
     "timestamp": 1699201746537,
     "user": {
      "displayName": "Vincent G.",
      "userId": "15679613728828836905"
     },
     "user_tz": -60
    },
    "id": "wH4aWJH0tLqR",
    "outputId": "63e1481d-b56c-41c8-f035-a0e5b1418c17"
   },
   "outputs": [],
   "source": [
    "df.groupby('color').avg().show()"
   ]
  },
  {
   "cell_type": "markdown",
   "metadata": {
    "id": "Mc6NP4wXtLqg"
   },
   "source": [
    "You can also apply a Python native function against each group by using pandas API."
   ]
  },
  {
   "cell_type": "code",
   "execution_count": null,
   "metadata": {
    "colab": {
     "base_uri": "https://localhost:8080/"
    },
    "executionInfo": {
     "elapsed": 779,
     "status": "ok",
     "timestamp": 1699201747314,
     "user": {
      "displayName": "Vincent G.",
      "userId": "15679613728828836905"
     },
     "user_tz": -60
    },
    "id": "OYgxOplStLqg",
    "outputId": "d15099a6-7507-4bd9-b4ba-e854058f5902"
   },
   "outputs": [],
   "source": [
    "def minus_mean(pandas_df):\n",
    "    return pandas_df.assign(v1=pandas_df.v1 - pandas_df.v1.mean())\n",
    "\n",
    "df.groupby('color').applyInPandas(minus_mean, schema=df.schema).show()"
   ]
  },
  {
   "cell_type": "markdown",
   "metadata": {
    "id": "j9Aw_ZXhtLqg"
   },
   "source": [
    "Co-grouping and applying a function."
   ]
  },
  {
   "cell_type": "code",
   "execution_count": null,
   "metadata": {
    "colab": {
     "base_uri": "https://localhost:8080/"
    },
    "executionInfo": {
     "elapsed": 1276,
     "status": "ok",
     "timestamp": 1699203330386,
     "user": {
      "displayName": "Vincent G.",
      "userId": "15679613728828836905"
     },
     "user_tz": -60
    },
    "id": "p_naKWw6tLqg",
    "outputId": "7bb9221f-0828-46c9-a66d-f635929046f9"
   },
   "outputs": [],
   "source": [
    "df1 = spark.createDataFrame(\n",
    "    [(20000101, 1, 1.0), (20000101, 2, 2.0), (20000102, 1, 3.0), (20000102, 2, 4.0)],\n",
    "    ('time', 'id', 'v1'))\n",
    "\n",
    "df2 = spark.createDataFrame(\n",
    "    [(20000101, 1, 'x'), (20000101, 2, 'y')],\n",
    "    ('time', 'id', 'v2'))\n",
    "\n",
    "def merge_ordered(l, r):\n",
    "    return pd.merge_ordered(l, r)\n",
    "\n",
    "grouped_df = df1.groupby('id').cogroup(df2.groupby('id')).applyInPandas(\n",
    "    merge_ordered, schema='time int, id int, v1 double, v2 string')\n",
    "\n",
    "grouped_df.show()"
   ]
  },
  {
   "cell_type": "markdown",
   "metadata": {
    "id": "ZuBjP3sztLqg"
   },
   "source": [
    "## Getting Data In/Out\n",
    "\n",
    "CSV is straightforward and easy to use. Parquet and ORC are efficient and compact file formats to read and write faster.\n",
    "\n",
    "There are many other data sources available in PySpark such as JDBC, text, binaryFile, Avro, etc. See also the latest [Spark SQL, DataFrames and Datasets Guide](https://spark.apache.org/docs/latest/sql-programming-guide.html) in Apache Spark documentation."
   ]
  },
  {
   "cell_type": "markdown",
   "metadata": {
    "id": "FOfBOG_ItLqh"
   },
   "source": [
    "### CSV"
   ]
  },
  {
   "cell_type": "code",
   "execution_count": null,
   "metadata": {
    "colab": {
     "base_uri": "https://localhost:8080/"
    },
    "executionInfo": {
     "elapsed": 1290,
     "status": "ok",
     "timestamp": 1699201749879,
     "user": {
      "displayName": "Vincent G.",
      "userId": "15679613728828836905"
     },
     "user_tz": -60
    },
    "id": "Q3Qk-gWQtLqh",
    "outputId": "05cbdc0b-ce0d-4ef2-d4ea-73746ecf08ee"
   },
   "outputs": [],
   "source": [
    "df.write.csv('foo.csv', header=True)\n",
    "spark.read.csv('foo.csv', header=True).show()"
   ]
  },
  {
   "cell_type": "markdown",
   "metadata": {
    "id": "hH6aIviztLqh"
   },
   "source": [
    "### Parquet"
   ]
  },
  {
   "cell_type": "code",
   "execution_count": null,
   "metadata": {
    "colab": {
     "base_uri": "https://localhost:8080/",
     "height": 346
    },
    "executionInfo": {
     "elapsed": 6,
     "status": "error",
     "timestamp": 1699203660359,
     "user": {
      "displayName": "Vincent G.",
      "userId": "15679613728828836905"
     },
     "user_tz": -60
    },
    "id": "DWmVApcCtLqi",
    "outputId": "88b184f2-a203-484f-f5f6-9365058db77b"
   },
   "outputs": [],
   "source": [
    "df.write.parquet('bar.parquet')\n",
    "spark.read.parquet('bar.parquet').show()"
   ]
  },
  {
   "cell_type": "code",
   "execution_count": null,
   "metadata": {},
   "outputs": [],
   "source": []
  }
 ],
 "metadata": {
  "colab": {
   "provenance": []
  },
  "kernelspec": {
   "display_name": "Python 3 (ipykernel)",
   "language": "python",
   "name": "python3"
  },
  "language_info": {
   "codemirror_mode": {
    "name": "ipython",
    "version": 3
   },
   "file_extension": ".py",
   "mimetype": "text/x-python",
   "name": "python",
   "nbconvert_exporter": "python",
   "pygments_lexer": "ipython3",
   "version": "3.11.6"
  },
  "name": "quickstart",
  "notebookId": 1927513300154480
 },
 "nbformat": 4,
 "nbformat_minor": 4
}
